{
  "nbformat": 4,
  "nbformat_minor": 0,
  "metadata": {
    "colab": {
      "provenance": []
    },
    "kernelspec": {
      "name": "python3",
      "display_name": "Python 3"
    },
    "language_info": {
      "name": "python"
    }
  },
  "cells": [
    {
      "cell_type": "code",
      "execution_count": 107,
      "metadata": {
        "id": "ilwDxbpdskbz"
      },
      "outputs": [],
      "source": [
        "from keras.datasets import mnist     # Get MNIST dataset from Keras\n",
        "from keras.models import Sequential  # Model type to be used\n",
        "from keras.layers.core import Dense, Dropout, Activation # Types of layers for the model\n",
        "from keras.utils import np_utils  # for converting array of labeled data to one-hot vector. \n",
        "import pandas as pd\n",
        "import matplotlib.pyplot as plt\n",
        "import numpy as np                   # advanced math library\n",
        "import random"
      ]
    },
    {
      "cell_type": "code",
      "source": [
        "df = pd.read_csv('/content/data.csv')"
      ],
      "metadata": {
        "id": "8x9Ys--EzjfI"
      },
      "execution_count": 108,
      "outputs": []
    },
    {
      "cell_type": "code",
      "source": [
        "df"
      ],
      "metadata": {
        "colab": {
          "base_uri": "https://localhost:8080/",
          "height": 423
        },
        "id": "JfYAE-ZdlVhE",
        "outputId": "766f6431-dc38-4449-ebd4-35185371ca1f"
      },
      "execution_count": 85,
      "outputs": [
        {
          "output_type": "execute_result",
          "data": {
            "text/plain": [
              "         X1       X2     X3          X4        X5  Y\n",
              "0     23.18  27.2720  426.0  721.250000  0.004793  1\n",
              "1     23.15  27.2675  429.5  714.000000  0.004783  1\n",
              "2     23.15  27.2450  426.0  713.500000  0.004779  1\n",
              "3     23.15  27.2000  426.0  708.250000  0.004772  1\n",
              "4     23.10  27.2000  426.0  704.500000  0.004757  1\n",
              "...     ...      ...    ...         ...       ... ..\n",
              "8138  21.05  36.0975  433.0  787.250000  0.005579  1\n",
              "8139  21.05  35.9950  433.0  789.500000  0.005563  1\n",
              "8140  21.10  36.0950  433.0  798.500000  0.005596  1\n",
              "8141  21.10  36.2600  433.0  820.333333  0.005621  1\n",
              "8142  21.10  36.2000  447.0  821.000000  0.005612  1\n",
              "\n",
              "[8143 rows x 6 columns]"
            ],
            "text/html": [
              "\n",
              "  <div id=\"df-b42e72c6-4b65-4832-9b48-7753dd8d4af1\">\n",
              "    <div class=\"colab-df-container\">\n",
              "      <div>\n",
              "<style scoped>\n",
              "    .dataframe tbody tr th:only-of-type {\n",
              "        vertical-align: middle;\n",
              "    }\n",
              "\n",
              "    .dataframe tbody tr th {\n",
              "        vertical-align: top;\n",
              "    }\n",
              "\n",
              "    .dataframe thead th {\n",
              "        text-align: right;\n",
              "    }\n",
              "</style>\n",
              "<table border=\"1\" class=\"dataframe\">\n",
              "  <thead>\n",
              "    <tr style=\"text-align: right;\">\n",
              "      <th></th>\n",
              "      <th>X1</th>\n",
              "      <th>X2</th>\n",
              "      <th>X3</th>\n",
              "      <th>X4</th>\n",
              "      <th>X5</th>\n",
              "      <th>Y</th>\n",
              "    </tr>\n",
              "  </thead>\n",
              "  <tbody>\n",
              "    <tr>\n",
              "      <th>0</th>\n",
              "      <td>23.18</td>\n",
              "      <td>27.2720</td>\n",
              "      <td>426.0</td>\n",
              "      <td>721.250000</td>\n",
              "      <td>0.004793</td>\n",
              "      <td>1</td>\n",
              "    </tr>\n",
              "    <tr>\n",
              "      <th>1</th>\n",
              "      <td>23.15</td>\n",
              "      <td>27.2675</td>\n",
              "      <td>429.5</td>\n",
              "      <td>714.000000</td>\n",
              "      <td>0.004783</td>\n",
              "      <td>1</td>\n",
              "    </tr>\n",
              "    <tr>\n",
              "      <th>2</th>\n",
              "      <td>23.15</td>\n",
              "      <td>27.2450</td>\n",
              "      <td>426.0</td>\n",
              "      <td>713.500000</td>\n",
              "      <td>0.004779</td>\n",
              "      <td>1</td>\n",
              "    </tr>\n",
              "    <tr>\n",
              "      <th>3</th>\n",
              "      <td>23.15</td>\n",
              "      <td>27.2000</td>\n",
              "      <td>426.0</td>\n",
              "      <td>708.250000</td>\n",
              "      <td>0.004772</td>\n",
              "      <td>1</td>\n",
              "    </tr>\n",
              "    <tr>\n",
              "      <th>4</th>\n",
              "      <td>23.10</td>\n",
              "      <td>27.2000</td>\n",
              "      <td>426.0</td>\n",
              "      <td>704.500000</td>\n",
              "      <td>0.004757</td>\n",
              "      <td>1</td>\n",
              "    </tr>\n",
              "    <tr>\n",
              "      <th>...</th>\n",
              "      <td>...</td>\n",
              "      <td>...</td>\n",
              "      <td>...</td>\n",
              "      <td>...</td>\n",
              "      <td>...</td>\n",
              "      <td>...</td>\n",
              "    </tr>\n",
              "    <tr>\n",
              "      <th>8138</th>\n",
              "      <td>21.05</td>\n",
              "      <td>36.0975</td>\n",
              "      <td>433.0</td>\n",
              "      <td>787.250000</td>\n",
              "      <td>0.005579</td>\n",
              "      <td>1</td>\n",
              "    </tr>\n",
              "    <tr>\n",
              "      <th>8139</th>\n",
              "      <td>21.05</td>\n",
              "      <td>35.9950</td>\n",
              "      <td>433.0</td>\n",
              "      <td>789.500000</td>\n",
              "      <td>0.005563</td>\n",
              "      <td>1</td>\n",
              "    </tr>\n",
              "    <tr>\n",
              "      <th>8140</th>\n",
              "      <td>21.10</td>\n",
              "      <td>36.0950</td>\n",
              "      <td>433.0</td>\n",
              "      <td>798.500000</td>\n",
              "      <td>0.005596</td>\n",
              "      <td>1</td>\n",
              "    </tr>\n",
              "    <tr>\n",
              "      <th>8141</th>\n",
              "      <td>21.10</td>\n",
              "      <td>36.2600</td>\n",
              "      <td>433.0</td>\n",
              "      <td>820.333333</td>\n",
              "      <td>0.005621</td>\n",
              "      <td>1</td>\n",
              "    </tr>\n",
              "    <tr>\n",
              "      <th>8142</th>\n",
              "      <td>21.10</td>\n",
              "      <td>36.2000</td>\n",
              "      <td>447.0</td>\n",
              "      <td>821.000000</td>\n",
              "      <td>0.005612</td>\n",
              "      <td>1</td>\n",
              "    </tr>\n",
              "  </tbody>\n",
              "</table>\n",
              "<p>8143 rows × 6 columns</p>\n",
              "</div>\n",
              "      <button class=\"colab-df-convert\" onclick=\"convertToInteractive('df-b42e72c6-4b65-4832-9b48-7753dd8d4af1')\"\n",
              "              title=\"Convert this dataframe to an interactive table.\"\n",
              "              style=\"display:none;\">\n",
              "        \n",
              "  <svg xmlns=\"http://www.w3.org/2000/svg\" height=\"24px\"viewBox=\"0 0 24 24\"\n",
              "       width=\"24px\">\n",
              "    <path d=\"M0 0h24v24H0V0z\" fill=\"none\"/>\n",
              "    <path d=\"M18.56 5.44l.94 2.06.94-2.06 2.06-.94-2.06-.94-.94-2.06-.94 2.06-2.06.94zm-11 1L8.5 8.5l.94-2.06 2.06-.94-2.06-.94L8.5 2.5l-.94 2.06-2.06.94zm10 10l.94 2.06.94-2.06 2.06-.94-2.06-.94-.94-2.06-.94 2.06-2.06.94z\"/><path d=\"M17.41 7.96l-1.37-1.37c-.4-.4-.92-.59-1.43-.59-.52 0-1.04.2-1.43.59L10.3 9.45l-7.72 7.72c-.78.78-.78 2.05 0 2.83L4 21.41c.39.39.9.59 1.41.59.51 0 1.02-.2 1.41-.59l7.78-7.78 2.81-2.81c.8-.78.8-2.07 0-2.86zM5.41 20L4 18.59l7.72-7.72 1.47 1.35L5.41 20z\"/>\n",
              "  </svg>\n",
              "      </button>\n",
              "      \n",
              "  <style>\n",
              "    .colab-df-container {\n",
              "      display:flex;\n",
              "      flex-wrap:wrap;\n",
              "      gap: 12px;\n",
              "    }\n",
              "\n",
              "    .colab-df-convert {\n",
              "      background-color: #E8F0FE;\n",
              "      border: none;\n",
              "      border-radius: 50%;\n",
              "      cursor: pointer;\n",
              "      display: none;\n",
              "      fill: #1967D2;\n",
              "      height: 32px;\n",
              "      padding: 0 0 0 0;\n",
              "      width: 32px;\n",
              "    }\n",
              "\n",
              "    .colab-df-convert:hover {\n",
              "      background-color: #E2EBFA;\n",
              "      box-shadow: 0px 1px 2px rgba(60, 64, 67, 0.3), 0px 1px 3px 1px rgba(60, 64, 67, 0.15);\n",
              "      fill: #174EA6;\n",
              "    }\n",
              "\n",
              "    [theme=dark] .colab-df-convert {\n",
              "      background-color: #3B4455;\n",
              "      fill: #D2E3FC;\n",
              "    }\n",
              "\n",
              "    [theme=dark] .colab-df-convert:hover {\n",
              "      background-color: #434B5C;\n",
              "      box-shadow: 0px 1px 3px 1px rgba(0, 0, 0, 0.15);\n",
              "      filter: drop-shadow(0px 1px 2px rgba(0, 0, 0, 0.3));\n",
              "      fill: #FFFFFF;\n",
              "    }\n",
              "  </style>\n",
              "\n",
              "      <script>\n",
              "        const buttonEl =\n",
              "          document.querySelector('#df-b42e72c6-4b65-4832-9b48-7753dd8d4af1 button.colab-df-convert');\n",
              "        buttonEl.style.display =\n",
              "          google.colab.kernel.accessAllowed ? 'block' : 'none';\n",
              "\n",
              "        async function convertToInteractive(key) {\n",
              "          const element = document.querySelector('#df-b42e72c6-4b65-4832-9b48-7753dd8d4af1');\n",
              "          const dataTable =\n",
              "            await google.colab.kernel.invokeFunction('convertToInteractive',\n",
              "                                                     [key], {});\n",
              "          if (!dataTable) return;\n",
              "\n",
              "          const docLinkHtml = 'Like what you see? Visit the ' +\n",
              "            '<a target=\"_blank\" href=https://colab.research.google.com/notebooks/data_table.ipynb>data table notebook</a>'\n",
              "            + ' to learn more about interactive tables.';\n",
              "          element.innerHTML = '';\n",
              "          dataTable['output_type'] = 'display_data';\n",
              "          await google.colab.output.renderOutput(dataTable, element);\n",
              "          const docLink = document.createElement('div');\n",
              "          docLink.innerHTML = docLinkHtml;\n",
              "          element.appendChild(docLink);\n",
              "        }\n",
              "      </script>\n",
              "    </div>\n",
              "  </div>\n",
              "  "
            ]
          },
          "metadata": {},
          "execution_count": 85
        }
      ]
    },
    {
      "cell_type": "markdown",
      "source": [
        "Splitting data into x and y. Where y is the target containing column named 'Y' above."
      ],
      "metadata": {
        "id": "FLTT-e6hmvyw"
      }
    },
    {
      "cell_type": "code",
      "source": [
        "x = df.drop(['Y'], axis=1)\n",
        "y = df['Y']"
      ],
      "metadata": {
        "id": "02Oq-jhUzrbu"
      },
      "execution_count": 109,
      "outputs": []
    },
    {
      "cell_type": "markdown",
      "source": [
        "We can see that y consists of 2 classes: 0 and 1. "
      ],
      "metadata": {
        "id": "lfbSFEyDuPWp"
      }
    },
    {
      "cell_type": "code",
      "source": [
        "y.unique()"
      ],
      "metadata": {
        "colab": {
          "base_uri": "https://localhost:8080/"
        },
        "id": "-Dks6dB5MHP6",
        "outputId": "3cf9fe00-0d3c-42ad-82e6-a06a6ec81020"
      },
      "execution_count": 124,
      "outputs": [
        {
          "output_type": "execute_result",
          "data": {
            "text/plain": [
              "array([1, 0])"
            ]
          },
          "metadata": {},
          "execution_count": 124
        }
      ]
    },
    {
      "cell_type": "markdown",
      "source": [
        "Split x an y into training and testing using 80% train and 20% test."
      ],
      "metadata": {
        "id": "LRguoTkmoYVW"
      }
    },
    {
      "cell_type": "code",
      "source": [
        "from sklearn.model_selection import train_test_split\n",
        "X_train, X_test,y_train, y_test = train_test_split(x,y ,\n",
        "                                   random_state=0, \n",
        "                                   test_size=0.20, \n",
        "                                   )"
      ],
      "metadata": {
        "id": "Nf5NN3Qi3VAb"
      },
      "execution_count": 110,
      "outputs": []
    },
    {
      "cell_type": "markdown",
      "source": [
        "For neural networks, we must normalize the data before fitting into the model: using min and max scaler for X data. Did not transform one hot for y because y consists of binary values: 0,1"
      ],
      "metadata": {
        "id": "Mg2JG3Hbo8mR"
      }
    },
    {
      "cell_type": "code",
      "source": [
        "from sklearn import preprocessing\n",
        "from sklearn.preprocessing import MinMaxScaler\n",
        "min_max_scaler = preprocessing.MinMaxScaler()\n",
        "X_train = min_max_scaler.fit_transform(X_train)\n",
        "X_test = min_max_scaler.fit_transform(X_test)"
      ],
      "metadata": {
        "id": "RfSQHoL9JK09"
      },
      "execution_count": 111,
      "outputs": []
    },
    {
      "cell_type": "code",
      "source": [
        "X_train.shape"
      ],
      "metadata": {
        "colab": {
          "base_uri": "https://localhost:8080/"
        },
        "id": "h7bG-Kxo4Ijo",
        "outputId": "b4265486-2a4f-4a90-d433-f1f970c1476d"
      },
      "execution_count": 89,
      "outputs": [
        {
          "output_type": "execute_result",
          "data": {
            "text/plain": [
              "(4071, 5)"
            ]
          },
          "metadata": {},
          "execution_count": 89
        }
      ]
    },
    {
      "cell_type": "markdown",
      "source": [
        "Constructing neural networks using sigmoid because the model will output only 1 number: either 1 or 0."
      ],
      "metadata": {
        "id": "i6wJ2FA0sAnx"
      }
    },
    {
      "cell_type": "code",
      "source": [
        "model = Sequential()\n",
        "#this is our first hidden layer which has 20 neurons and input of 5 vectors\n",
        "model.add(Dense(20, input_shape= (5,)))\n",
        "\n",
        "model.add(Activation('relu'))\n",
        "#we also add a dropout which helps combat against overfitting\n",
        "model.add(Dropout(0.2))\n",
        "model.add(Dense(10))\n",
        "model.add(Activation('relu'))\n",
        "model.add(Dropout(0.2))\n",
        "\n",
        "# Then we have our final layer which outputs 1 class due to y being binary\n",
        "model.add(Dense(1))\n",
        "model.add(Activation('sigmoid'))\n",
        "model.summary()"
      ],
      "metadata": {
        "colab": {
          "base_uri": "https://localhost:8080/"
        },
        "id": "XD_yb3qZluxm",
        "outputId": "85b1c61f-3a82-47fd-b9ab-04dc5df27909"
      },
      "execution_count": 118,
      "outputs": [
        {
          "output_type": "stream",
          "name": "stdout",
          "text": [
            "Model: \"sequential_15\"\n",
            "_________________________________________________________________\n",
            " Layer (type)                Output Shape              Param #   \n",
            "=================================================================\n",
            " dense_50 (Dense)            (None, 20)                120       \n",
            "                                                                 \n",
            " activation_32 (Activation)  (None, 20)                0         \n",
            "                                                                 \n",
            " dropout_23 (Dropout)        (None, 20)                0         \n",
            "                                                                 \n",
            " dense_51 (Dense)            (None, 10)                210       \n",
            "                                                                 \n",
            " activation_33 (Activation)  (None, 10)                0         \n",
            "                                                                 \n",
            " dropout_24 (Dropout)        (None, 10)                0         \n",
            "                                                                 \n",
            " dense_52 (Dense)            (None, 1)                 11        \n",
            "                                                                 \n",
            " activation_34 (Activation)  (None, 1)                 0         \n",
            "                                                                 \n",
            "=================================================================\n",
            "Total params: 341\n",
            "Trainable params: 341\n",
            "Non-trainable params: 0\n",
            "_________________________________________________________________\n"
          ]
        }
      ]
    },
    {
      "cell_type": "markdown",
      "source": [
        "Instead of categorical_crossentropy, we'll use binary."
      ],
      "metadata": {
        "id": "Le8d1k6tsPgw"
      }
    },
    {
      "cell_type": "code",
      "source": [
        "model.compile(loss='binary_crossentropy', optimizer='adam', metrics=['accuracy'])"
      ],
      "metadata": {
        "id": "jxW8h-Gq4TPS"
      },
      "execution_count": 119,
      "outputs": []
    },
    {
      "cell_type": "markdown",
      "source": [
        "fit into Neural network model and splitting data for validation."
      ],
      "metadata": {
        "id": "67ncuuNcsWFc"
      }
    },
    {
      "cell_type": "code",
      "source": [
        "history = model.fit(X_train, y_train,validation_data=(X_test, y_test), batch_size=128, epochs=10, verbose=1)"
      ],
      "metadata": {
        "colab": {
          "base_uri": "https://localhost:8080/"
        },
        "id": "44hewoT14WZh",
        "outputId": "6dcf33b0-caf6-4015-e22e-5168a9b84e2e"
      },
      "execution_count": 120,
      "outputs": [
        {
          "output_type": "stream",
          "name": "stdout",
          "text": [
            "Epoch 1/10\n",
            "51/51 [==============================] - 1s 6ms/step - loss: 0.6617 - accuracy: 0.7610 - val_loss: 0.6236 - val_accuracy: 0.7759\n",
            "Epoch 2/10\n",
            "51/51 [==============================] - 0s 3ms/step - loss: 0.5785 - accuracy: 0.7909 - val_loss: 0.5369 - val_accuracy: 0.7753\n",
            "Epoch 3/10\n",
            "51/51 [==============================] - 0s 3ms/step - loss: 0.4883 - accuracy: 0.8070 - val_loss: 0.4252 - val_accuracy: 0.7901\n",
            "Epoch 4/10\n",
            "51/51 [==============================] - 0s 3ms/step - loss: 0.3740 - accuracy: 0.8882 - val_loss: 0.2859 - val_accuracy: 0.9478\n",
            "Epoch 5/10\n",
            "51/51 [==============================] - 0s 3ms/step - loss: 0.2658 - accuracy: 0.9314 - val_loss: 0.1843 - val_accuracy: 0.9540\n",
            "Epoch 6/10\n",
            "51/51 [==============================] - 0s 3ms/step - loss: 0.1879 - accuracy: 0.9455 - val_loss: 0.1323 - val_accuracy: 0.9601\n",
            "Epoch 7/10\n",
            "51/51 [==============================] - 0s 3ms/step - loss: 0.1492 - accuracy: 0.9566 - val_loss: 0.1095 - val_accuracy: 0.9626\n",
            "Epoch 8/10\n",
            "51/51 [==============================] - 0s 3ms/step - loss: 0.1286 - accuracy: 0.9621 - val_loss: 0.0955 - val_accuracy: 0.9675\n",
            "Epoch 9/10\n",
            "51/51 [==============================] - 0s 3ms/step - loss: 0.1153 - accuracy: 0.9639 - val_loss: 0.0864 - val_accuracy: 0.9699\n",
            "Epoch 10/10\n",
            "51/51 [==============================] - 0s 3ms/step - loss: 0.0994 - accuracy: 0.9705 - val_loss: 0.0777 - val_accuracy: 0.9718\n"
          ]
        }
      ]
    },
    {
      "cell_type": "markdown",
      "source": [
        "We have achieve test data accuracy of 97%. And if we look at the iterations above, is comparing the accuracy of training and testing. It concludes that the model's testing and training is imporving together. At the last epoch, 10/10, we can see that both training and validation(test) achieve approximately same score."
      ],
      "metadata": {
        "id": "9EruC94tsiAF"
      }
    },
    {
      "cell_type": "code",
      "source": [
        "score = model.evaluate(X_test, y_test)\n",
        "print('Test loss:', score[0])\n",
        "print('Test accuracy:', score[1])"
      ],
      "metadata": {
        "id": "8QLypNAX5hMR",
        "colab": {
          "base_uri": "https://localhost:8080/"
        },
        "outputId": "8e354d56-f3e0-4dee-92ac-bd2744e1eddc"
      },
      "execution_count": 121,
      "outputs": [
        {
          "output_type": "stream",
          "name": "stdout",
          "text": [
            "51/51 [==============================] - 0s 2ms/step - loss: 0.0777 - accuracy: 0.9718\n",
            "Test loss: 0.0776805505156517\n",
            "Test accuracy: 0.9717618227005005\n"
          ]
        }
      ]
    },
    {
      "cell_type": "markdown",
      "source": [
        "Here is the loss function graph for training and testing. We can see that is slighlty overfitting."
      ],
      "metadata": {
        "id": "z1AJsjHlstt-"
      }
    },
    {
      "cell_type": "code",
      "source": [
        "from keras.callbacks import History\n",
        "import matplotlib.pyplot as plt\n",
        "plt.plot(history.history['loss'], label='Train')\n",
        "plt.plot(history.history['val_loss'], label='Test')\n",
        "plt.title('Loss')\n",
        "plt.xlabel('Epoch')\n",
        "plt.ylabel('Loss')\n",
        "plt.legend(['train', 'test'], loc='upper left')\n",
        "plt.show()"
      ],
      "metadata": {
        "id": "rXCMRyrr6H5w",
        "colab": {
          "base_uri": "https://localhost:8080/",
          "height": 472
        },
        "outputId": "581099cf-fb59-4a43-c2c0-981357e792db"
      },
      "execution_count": 122,
      "outputs": [
        {
          "output_type": "display_data",
          "data": {
            "text/plain": [
              "<Figure size 640x480 with 1 Axes>"
            ],
            "image/png": "[encoded data removed]"
          },
          "metadata": {}
        }
      ]
    },
    {
      "cell_type": "markdown",
      "source": [
        "What accuracy can you reach?\n",
        "- Reach accuracy of 97%\n",
        "\n",
        "Did you experience any overfitting or underfitting for your model? If yes, how did you fix it? (Please answer these in your jupyter notebook file.)\n",
        "- Based on the graph, it showed that is slightly overfitting due to testing and training lines little far away from each other. The model is considered good if they are close to each other."
      ],
      "metadata": {
        "id": "fG3NUY0mv3Sa"
      }
    }
  ]
}